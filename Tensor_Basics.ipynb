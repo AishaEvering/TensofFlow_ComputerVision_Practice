{
  "nbformat": 4,
  "nbformat_minor": 0,
  "metadata": {
    "colab": {
      "provenance": [],
      "authorship_tag": "ABX9TyMJGdKCtI1iN4YhqKjpdCHM",
      "include_colab_link": true
    },
    "kernelspec": {
      "name": "python3",
      "display_name": "Python 3"
    },
    "language_info": {
      "name": "python"
    }
  },
  "cells": [
    {
      "cell_type": "markdown",
      "metadata": {
        "id": "view-in-github",
        "colab_type": "text"
      },
      "source": [
        "<a href=\"https://colab.research.google.com/github/AishaEvering/TensofFlow_ComputerVision_Practice/blob/main/Tensor_Basics.ipynb\" target=\"_parent\"><img src=\"https://colab.research.google.com/assets/colab-badge.svg\" alt=\"Open In Colab\"/></a>"
      ]
    },
    {
      "cell_type": "markdown",
      "source": [
        "#Tensor Basics"
      ],
      "metadata": {
        "id": "1-j93TgA5qtp"
      }
    },
    {
      "cell_type": "markdown",
      "source": [
        "## Initialization"
      ],
      "metadata": {
        "id": "uYB06Bbj7PnS"
      }
    },
    {
      "cell_type": "code",
      "execution_count": null,
      "metadata": {
        "id": "L-oGLlTd5dEK"
      },
      "outputs": [],
      "source": [
        "import tensorflow as tf"
      ]
    },
    {
      "cell_type": "code",
      "source": [
        "tensor_zero_d = tf.constant(4)\n",
        "print(tensor_zero_d)"
      ],
      "metadata": {
        "colab": {
          "base_uri": "https://localhost:8080/"
        },
        "id": "j7GlauG27NWO",
        "outputId": "4126253c-5a9a-4129-ca2b-8d08746fe38e"
      },
      "execution_count": null,
      "outputs": [
        {
          "output_type": "stream",
          "name": "stdout",
          "text": [
            "tf.Tensor(4, shape=(), dtype=int32)\n"
          ]
        }
      ]
    },
    {
      "cell_type": "code",
      "source": [
        "tensor_one_d = tf.constant([2, 0, -3])\n",
        "print(tensor_one_d)"
      ],
      "metadata": {
        "colab": {
          "base_uri": "https://localhost:8080/"
        },
        "id": "HhzvucCW7bNb",
        "outputId": "dec8a5ca-b49b-4b97-9126-d0a882a93e6d"
      },
      "execution_count": null,
      "outputs": [
        {
          "output_type": "stream",
          "name": "stdout",
          "text": [
            "tf.Tensor([ 2  0 -3], shape=(3,), dtype=int32)\n"
          ]
        }
      ]
    },
    {
      "cell_type": "code",
      "source": [
        "tensor_two_d = tf.constant([\n",
        "    [2, 0, -3],\n",
        "    [3, 5,-1],\n",
        "    [1,5,6],\n",
        "    [2, 3, 8]\n",
        "    ])\n",
        "print(tensor_two_d)"
      ],
      "metadata": {
        "colab": {
          "base_uri": "https://localhost:8080/"
        },
        "id": "H9qmFHoJ7nMT",
        "outputId": "de738cab-3676-4115-a152-c56b8cedc7ec"
      },
      "execution_count": null,
      "outputs": [
        {
          "output_type": "stream",
          "name": "stdout",
          "text": [
            "tf.Tensor(\n",
            "[[ 2  0 -3]\n",
            " [ 3  5 -1]\n",
            " [ 1  5  6]\n",
            " [ 2  3  8]], shape=(4, 3), dtype=int32)\n"
          ]
        }
      ]
    },
    {
      "cell_type": "code",
      "source": [
        "tensor_three_d = tf.constant([\n",
        "  [[1, 2, 0], [3,5,-1]],\n",
        "  [[10, 2,0], [1,0,2]],\n",
        "  [[5,8,0], [2,7,0]],\n",
        "  [[2, 1, 9], [4,-3,32]],\n",
        " ])\n",
        "\n",
        "print(tensor_three_d)"
      ],
      "metadata": {
        "colab": {
          "base_uri": "https://localhost:8080/"
        },
        "id": "BVlvqW1U8FbM",
        "outputId": "fa53795b-74bd-485a-c2a6-f3d37c0543d4"
      },
      "execution_count": null,
      "outputs": [
        {
          "output_type": "stream",
          "name": "stdout",
          "text": [
            "tf.Tensor(\n",
            "[[[ 1  2  0]\n",
            "  [ 3  5 -1]]\n",
            "\n",
            " [[10  2  0]\n",
            "  [ 1  0  2]]\n",
            "\n",
            " [[ 5  8  0]\n",
            "  [ 2  7  0]]\n",
            "\n",
            " [[ 2  1  9]\n",
            "  [ 4 -3 32]]], shape=(4, 2, 3), dtype=int32)\n"
          ]
        }
      ]
    },
    {
      "cell_type": "code",
      "source": [
        "tensor_three_d.shape"
      ],
      "metadata": {
        "colab": {
          "base_uri": "https://localhost:8080/"
        },
        "id": "guqzkDif9C33",
        "outputId": "195996bb-dd3f-46a8-dbc1-536f23757e0d"
      },
      "execution_count": null,
      "outputs": [
        {
          "output_type": "execute_result",
          "data": {
            "text/plain": [
              "TensorShape([4, 2, 3])"
            ]
          },
          "metadata": {},
          "execution_count": 7
        }
      ]
    },
    {
      "cell_type": "code",
      "source": [
        "tensor_four_d = tf.constant([[\n",
        "  [[1, 2, 0], [3,5,-1]],\n",
        "  [[10, 2,0], [1,0,2]],\n",
        "  [[5,8,0], [2,7,0]],\n",
        "  [[2, 1, 9], [4,-3,32]]\n",
        " ],\n",
        "  [\n",
        "  [[1, 32, 0], [3,5,-1]],\n",
        "  [[10, 2,0], [1,0,2]],\n",
        "  [[5,8,0], [2,57,0]],\n",
        "  [[2, 41, 9], [4,-3,32]]\n",
        " ],\n",
        "  [\n",
        "  [[13, 2, 0], [3,55,-1]],\n",
        "  [[10, 2,0], [1,0,2]],\n",
        "  [[5,38,0], [2,74,0]],\n",
        "  [[2, 1, 9], [4,-3,32]]\n",
        " ]])\n",
        "\n",
        "print(tensor_four_d.shape)"
      ],
      "metadata": {
        "colab": {
          "base_uri": "https://localhost:8080/"
        },
        "id": "qpN_3jz69j0R",
        "outputId": "996ac9dd-2a63-43c8-ab42-72a2cb0e2db6"
      },
      "execution_count": null,
      "outputs": [
        {
          "output_type": "stream",
          "name": "stdout",
          "text": [
            "(3, 4, 2, 3)\n"
          ]
        }
      ]
    },
    {
      "cell_type": "markdown",
      "source": [
        "## Casting"
      ],
      "metadata": {
        "id": "J23aT7b5Bby2"
      }
    },
    {
      "cell_type": "code",
      "source": [
        "tensor_one_d = tf.constant([2,0.,-3,8,90], dtype=tf.float32)\n",
        "\n",
        "casted_tensor_one_d = tf.cast(tensor_one_d, dtype=tf.int16)\n",
        "\n",
        "bool_casted_tensor_one_d = tf.cast(tensor_one_d, dtype=tf.bool)\n",
        "\n",
        "print(tensor_one_d)\n",
        "print(casted_tensor_one_d)\n",
        "print(bool_casted_tensor_one_d)"
      ],
      "metadata": {
        "colab": {
          "base_uri": "https://localhost:8080/"
        },
        "id": "0sqYE-lWACPb",
        "outputId": "cb4ba700-0868-4637-d67f-a4caaec48327"
      },
      "execution_count": null,
      "outputs": [
        {
          "output_type": "stream",
          "name": "stdout",
          "text": [
            "tf.Tensor([ 2.  0. -3.  8. 90.], shape=(5,), dtype=float32)\n",
            "tf.Tensor([ 2  0 -3  8 90], shape=(5,), dtype=int16)\n",
            "tf.Tensor([ True False  True  True  True], shape=(5,), dtype=bool)\n"
          ]
        }
      ]
    },
    {
      "cell_type": "code",
      "source": [
        "tensor_bool = tf.constant([True, True, False])\n",
        "print(tensor_bool)"
      ],
      "metadata": {
        "colab": {
          "base_uri": "https://localhost:8080/"
        },
        "id": "Pgunb8UABr2e",
        "outputId": "b3f7bd05-89de-44bf-dbfa-70a5974563b8"
      },
      "execution_count": null,
      "outputs": [
        {
          "output_type": "stream",
          "name": "stdout",
          "text": [
            "tf.Tensor([ True  True False], shape=(3,), dtype=bool)\n"
          ]
        }
      ]
    },
    {
      "cell_type": "code",
      "source": [
        "tensor_string = tf.constant([\"hello world\", \"hi\"])\n",
        "print(tensor_string)"
      ],
      "metadata": {
        "colab": {
          "base_uri": "https://localhost:8080/"
        },
        "id": "tQjQmbbBB0-m",
        "outputId": "10039431-23cf-4784-f5b8-5cb837265024"
      },
      "execution_count": null,
      "outputs": [
        {
          "output_type": "stream",
          "name": "stdout",
          "text": [
            "tf.Tensor([b'hello world' b'hi'], shape=(2,), dtype=string)\n"
          ]
        }
      ]
    },
    {
      "cell_type": "code",
      "source": [
        "import numpy as np"
      ],
      "metadata": {
        "id": "uwGegJtgCB7z"
      },
      "execution_count": null,
      "outputs": []
    },
    {
      "cell_type": "code",
      "source": [
        "np_array = np.array([1,2,4])\n",
        "print(np_array)"
      ],
      "metadata": {
        "colab": {
          "base_uri": "https://localhost:8080/"
        },
        "id": "8kqabGPECIJD",
        "outputId": "fc7cc130-d727-4de4-916d-e86033899952"
      },
      "execution_count": null,
      "outputs": [
        {
          "output_type": "stream",
          "name": "stdout",
          "text": [
            "[1 2 4]\n"
          ]
        }
      ]
    },
    {
      "cell_type": "code",
      "source": [
        "converted_tensor = tf.convert_to_tensor(np_array)\n",
        "print(converted_tensor)"
      ],
      "metadata": {
        "colab": {
          "base_uri": "https://localhost:8080/"
        },
        "id": "IiNM0gTcCNQb",
        "outputId": "6a74c193-7e2c-4d73-cbe6-802071347861"
      },
      "execution_count": null,
      "outputs": [
        {
          "output_type": "stream",
          "name": "stdout",
          "text": [
            "tf.Tensor([1 2 4], shape=(3,), dtype=int64)\n"
          ]
        }
      ]
    },
    {
      "cell_type": "code",
      "source": [
        "eye_tensor = tf.eye(\n",
        "    num_rows=3,\n",
        "    num_columns=None,\n",
        "    batch_shape=None,\n",
        "    dtype=tf.dtypes.float32,\n",
        "    name=None\n",
        ")\n",
        "\n",
        "print(eye_tensor)"
      ],
      "metadata": {
        "colab": {
          "base_uri": "https://localhost:8080/"
        },
        "id": "AtpGqrtuCWk6",
        "outputId": "0907624d-ad8d-4549-be34-227f5e43c6fa"
      },
      "execution_count": null,
      "outputs": [
        {
          "output_type": "stream",
          "name": "stdout",
          "text": [
            "tf.Tensor(\n",
            "[[1. 0. 0.]\n",
            " [0. 1. 0.]\n",
            " [0. 0. 1.]], shape=(3, 3), dtype=float32)\n"
          ]
        }
      ]
    },
    {
      "cell_type": "code",
      "source": [
        "fill_tensor = tf.fill([3, 4],5)\n",
        "fill_tensor"
      ],
      "metadata": {
        "colab": {
          "base_uri": "https://localhost:8080/"
        },
        "id": "yce8rb3PC8Gx",
        "outputId": "df07789a-2057-48c5-c4b1-34575ec5c828"
      },
      "execution_count": null,
      "outputs": [
        {
          "output_type": "execute_result",
          "data": {
            "text/plain": [
              "<tf.Tensor: shape=(3, 4), dtype=int32, numpy=\n",
              "array([[5, 5, 5, 5],\n",
              "       [5, 5, 5, 5],\n",
              "       [5, 5, 5, 5]], dtype=int32)>"
            ]
          },
          "metadata": {},
          "execution_count": 21
        }
      ]
    },
    {
      "cell_type": "code",
      "source": [
        "ones_tensor = tf.ones([5,3])\n",
        "ones_tensor"
      ],
      "metadata": {
        "colab": {
          "base_uri": "https://localhost:8080/"
        },
        "id": "v04Y286mD-uL",
        "outputId": "aa4cea2d-3031-4b74-ccab-9d19fa3dfd32"
      },
      "execution_count": null,
      "outputs": [
        {
          "output_type": "execute_result",
          "data": {
            "text/plain": [
              "<tf.Tensor: shape=(5, 3), dtype=float32, numpy=\n",
              "array([[1., 1., 1.],\n",
              "       [1., 1., 1.],\n",
              "       [1., 1., 1.],\n",
              "       [1., 1., 1.],\n",
              "       [1., 1., 1.]], dtype=float32)>"
            ]
          },
          "metadata": {},
          "execution_count": 22
        }
      ]
    },
    {
      "cell_type": "code",
      "source": [
        "ones_like_tensor = tf.ones_like(fill_tensor)\n",
        "ones_like_tensor"
      ],
      "metadata": {
        "colab": {
          "base_uri": "https://localhost:8080/"
        },
        "id": "warkuEZcEPLi",
        "outputId": "bc24e298-5586-45da-ad1a-3094581d575c"
      },
      "execution_count": null,
      "outputs": [
        {
          "output_type": "execute_result",
          "data": {
            "text/plain": [
              "<tf.Tensor: shape=(3, 4), dtype=int32, numpy=\n",
              "array([[1, 1, 1, 1],\n",
              "       [1, 1, 1, 1],\n",
              "       [1, 1, 1, 1]], dtype=int32)>"
            ]
          },
          "metadata": {},
          "execution_count": 23
        }
      ]
    },
    {
      "cell_type": "code",
      "source": [
        "zeros_tensor = tf.zeros([5,3])\n",
        "zeros_tensor"
      ],
      "metadata": {
        "colab": {
          "base_uri": "https://localhost:8080/"
        },
        "id": "PLiaW2CTFRHT",
        "outputId": "b69f2d4b-342d-4269-e427-f644ef609c42"
      },
      "execution_count": null,
      "outputs": [
        {
          "output_type": "execute_result",
          "data": {
            "text/plain": [
              "<tf.Tensor: shape=(5, 3), dtype=float32, numpy=\n",
              "array([[0., 0., 0.],\n",
              "       [0., 0., 0.],\n",
              "       [0., 0., 0.],\n",
              "       [0., 0., 0.],\n",
              "       [0., 0., 0.]], dtype=float32)>"
            ]
          },
          "metadata": {},
          "execution_count": 25
        }
      ]
    },
    {
      "cell_type": "code",
      "source": [
        "tf.rank(zeros_tensor)"
      ],
      "metadata": {
        "colab": {
          "base_uri": "https://localhost:8080/"
        },
        "id": "0fH-vBHgGBV5",
        "outputId": "e87ffc12-5af7-4a45-e614-e4118e1d4e7f"
      },
      "execution_count": null,
      "outputs": [
        {
          "output_type": "execute_result",
          "data": {
            "text/plain": [
              "<tf.Tensor: shape=(), dtype=int32, numpy=2>"
            ]
          },
          "metadata": {},
          "execution_count": 26
        }
      ]
    },
    {
      "cell_type": "code",
      "source": [
        "tf.size(fill_tensor)"
      ],
      "metadata": {
        "colab": {
          "base_uri": "https://localhost:8080/"
        },
        "id": "OPRWgl2sGH-3",
        "outputId": "1fb7a2a3-972a-4e4f-b7d6-24d4d5c31260"
      },
      "execution_count": null,
      "outputs": [
        {
          "output_type": "execute_result",
          "data": {
            "text/plain": [
              "<tf.Tensor: shape=(), dtype=int32, numpy=12>"
            ]
          },
          "metadata": {},
          "execution_count": 27
        }
      ]
    },
    {
      "cell_type": "code",
      "source": [
        "random_tensor = tf.random.normal([3,2],\n",
        "                                 mean=100.0,\n",
        "                                 stddev=1.0,\n",
        "                                 dtype=tf.dtypes.float32,\n",
        "                                 seed=None,\n",
        "                                 name=None)\n",
        "random_tensor"
      ],
      "metadata": {
        "colab": {
          "base_uri": "https://localhost:8080/"
        },
        "id": "jJgAOlytGNrY",
        "outputId": "e7cb11af-26c0-4d5b-aeac-103040eaf988"
      },
      "execution_count": null,
      "outputs": [
        {
          "output_type": "execute_result",
          "data": {
            "text/plain": [
              "<tf.Tensor: shape=(3, 2), dtype=float32, numpy=\n",
              "array([[ 99.58031 , 101.25556 ],\n",
              "       [102.109695, 100.63228 ],\n",
              "       [ 98.93092 , 100.63008 ]], dtype=float32)>"
            ]
          },
          "metadata": {},
          "execution_count": 32
        }
      ]
    },
    {
      "cell_type": "code",
      "source": [
        "random_tensor = tf.random.uniform([5,],\n",
        "                                 minval=0,\n",
        "                                 maxval=8,\n",
        "                                 dtype=tf.dtypes.float32,\n",
        "                                 seed=None,\n",
        "                                 name=None)\n",
        "random_tensor"
      ],
      "metadata": {
        "colab": {
          "base_uri": "https://localhost:8080/"
        },
        "id": "tQEgrxH_G-l2",
        "outputId": "3e1b1bb8-52fb-4ca6-8c5c-d2b0ec8437cc"
      },
      "execution_count": null,
      "outputs": [
        {
          "output_type": "execute_result",
          "data": {
            "text/plain": [
              "<tf.Tensor: shape=(5,), dtype=float32, numpy=\n",
              "array([7.6254787 , 6.113373  , 0.69100666, 3.7670221 , 2.7379408 ],\n",
              "      dtype=float32)>"
            ]
          },
          "metadata": {},
          "execution_count": 35
        }
      ]
    },
    {
      "cell_type": "markdown",
      "source": [
        "## Indexing"
      ],
      "metadata": {
        "id": "lu8GWYzDKe2K"
      }
    },
    {
      "cell_type": "code",
      "source": [
        "tensor_indexed = tf.constant([2,4,9,0,4,5,6,7])"
      ],
      "metadata": {
        "id": "NYfatdVEJFXL"
      },
      "execution_count": null,
      "outputs": []
    },
    {
      "cell_type": "code",
      "source": [
        "print(tensor_indexed[3])"
      ],
      "metadata": {
        "colab": {
          "base_uri": "https://localhost:8080/"
        },
        "id": "k0DNg1Z8KoML",
        "outputId": "634a58f9-fe60-42b7-e32b-6574cedc5a97"
      },
      "execution_count": null,
      "outputs": [
        {
          "output_type": "stream",
          "name": "stdout",
          "text": [
            "tf.Tensor(0, shape=(), dtype=int32)\n"
          ]
        }
      ]
    },
    {
      "cell_type": "code",
      "source": [
        "print(tensor_indexed[-1])"
      ],
      "metadata": {
        "colab": {
          "base_uri": "https://localhost:8080/"
        },
        "id": "5P0zJV57K2mw",
        "outputId": "3812d3ad-871c-4637-a30b-bf27d28b95ea"
      },
      "execution_count": null,
      "outputs": [
        {
          "output_type": "stream",
          "name": "stdout",
          "text": [
            "tf.Tensor(7, shape=(), dtype=int32)\n"
          ]
        }
      ]
    },
    {
      "cell_type": "code",
      "source": [
        "tensor_indexed[1:7]"
      ],
      "metadata": {
        "colab": {
          "base_uri": "https://localhost:8080/"
        },
        "id": "OZVCEjE4LAN5",
        "outputId": "76cf14c8-5ad6-4170-a791-4f2ce0fdd7f6"
      },
      "execution_count": null,
      "outputs": [
        {
          "output_type": "execute_result",
          "data": {
            "text/plain": [
              "<tf.Tensor: shape=(6,), dtype=int32, numpy=array([4, 9, 0, 4, 5, 6], dtype=int32)>"
            ]
          },
          "metadata": {},
          "execution_count": 41
        }
      ]
    },
    {
      "cell_type": "code",
      "source": [
        "tensor_indexed[:3]"
      ],
      "metadata": {
        "colab": {
          "base_uri": "https://localhost:8080/"
        },
        "id": "vnf6Qbu4LTOk",
        "outputId": "ef2278dc-3d82-4ded-b4c3-c43f31ce457d"
      },
      "execution_count": null,
      "outputs": [
        {
          "output_type": "execute_result",
          "data": {
            "text/plain": [
              "<tf.Tensor: shape=(3,), dtype=int32, numpy=array([2, 4, 9], dtype=int32)>"
            ]
          },
          "metadata": {},
          "execution_count": 45
        }
      ]
    },
    {
      "cell_type": "code",
      "source": [
        "tensor_indexed[3:]"
      ],
      "metadata": {
        "colab": {
          "base_uri": "https://localhost:8080/"
        },
        "id": "YaL_15lGLz8o",
        "outputId": "3b994800-5ebe-4351-cbd3-4bfe74b365a8"
      },
      "execution_count": null,
      "outputs": [
        {
          "output_type": "execute_result",
          "data": {
            "text/plain": [
              "<tf.Tensor: shape=(5,), dtype=int32, numpy=array([0, 4, 5, 6, 7], dtype=int32)>"
            ]
          },
          "metadata": {},
          "execution_count": 46
        }
      ]
    },
    {
      "cell_type": "code",
      "source": [
        "tensor_indexed[:7:2]"
      ],
      "metadata": {
        "colab": {
          "base_uri": "https://localhost:8080/"
        },
        "id": "TnVdDkmPL5p8",
        "outputId": "958cf940-27c7-4eca-a7f0-3eba7f3b09b0"
      },
      "execution_count": null,
      "outputs": [
        {
          "output_type": "execute_result",
          "data": {
            "text/plain": [
              "<tf.Tensor: shape=(4,), dtype=int32, numpy=array([2, 9, 4, 6], dtype=int32)>"
            ]
          },
          "metadata": {},
          "execution_count": 47
        }
      ]
    },
    {
      "cell_type": "code",
      "source": [
        "tensor_indexed = tf.constant([[2,3,4,5,6],\n",
        "                             [9,0,4,2,1],\n",
        "                             [0,0,1,7,0]])"
      ],
      "metadata": {
        "id": "O0OcHQ5IMrpa"
      },
      "execution_count": null,
      "outputs": []
    },
    {
      "cell_type": "code",
      "source": [
        "tensor_indexed[1,3]"
      ],
      "metadata": {
        "colab": {
          "base_uri": "https://localhost:8080/"
        },
        "id": "h-cunbFZNGwq",
        "outputId": "b351361f-ea9e-409f-c931-d70aac91bcfb"
      },
      "execution_count": null,
      "outputs": [
        {
          "output_type": "execute_result",
          "data": {
            "text/plain": [
              "<tf.Tensor: shape=(), dtype=int32, numpy=2>"
            ]
          },
          "metadata": {},
          "execution_count": 50
        }
      ]
    },
    {
      "cell_type": "code",
      "source": [
        "tensor_indexed[2,2:5]"
      ],
      "metadata": {
        "colab": {
          "base_uri": "https://localhost:8080/"
        },
        "id": "SMJ7QuKSNgvy",
        "outputId": "ea8bd908-6581-457a-c845-c3b64578dee3"
      },
      "execution_count": null,
      "outputs": [
        {
          "output_type": "execute_result",
          "data": {
            "text/plain": [
              "<tf.Tensor: shape=(3,), dtype=int32, numpy=array([1, 7, 0], dtype=int32)>"
            ]
          },
          "metadata": {},
          "execution_count": 53
        }
      ]
    },
    {
      "cell_type": "code",
      "source": [
        "tensor_indexed[:2,4]"
      ],
      "metadata": {
        "colab": {
          "base_uri": "https://localhost:8080/"
        },
        "id": "FseoyPZGNwAQ",
        "outputId": "a05e6727-dd49-4ea0-c694-588522ec6632"
      },
      "execution_count": null,
      "outputs": [
        {
          "output_type": "execute_result",
          "data": {
            "text/plain": [
              "<tf.Tensor: shape=(2,), dtype=int32, numpy=array([6, 1], dtype=int32)>"
            ]
          },
          "metadata": {},
          "execution_count": 55
        }
      ]
    },
    {
      "cell_type": "code",
      "source": [
        "tensor_indexed[:,4]"
      ],
      "metadata": {
        "colab": {
          "base_uri": "https://localhost:8080/"
        },
        "id": "VwU0linbOHBa",
        "outputId": "3ee9c01e-2ee3-4413-ab74-b3da3368c7da"
      },
      "execution_count": null,
      "outputs": [
        {
          "output_type": "execute_result",
          "data": {
            "text/plain": [
              "<tf.Tensor: shape=(3,), dtype=int32, numpy=array([6, 1, 0], dtype=int32)>"
            ]
          },
          "metadata": {},
          "execution_count": 56
        }
      ]
    },
    {
      "cell_type": "code",
      "source": [
        "tensor_indexed[:1,:]"
      ],
      "metadata": {
        "colab": {
          "base_uri": "https://localhost:8080/"
        },
        "id": "cYXloFo-OUVz",
        "outputId": "59bf1634-58c8-4cc4-f1cb-c1ea2e83a67e"
      },
      "execution_count": null,
      "outputs": [
        {
          "output_type": "execute_result",
          "data": {
            "text/plain": [
              "<tf.Tensor: shape=(1, 5), dtype=int32, numpy=array([[2, 3, 4, 5, 6]], dtype=int32)>"
            ]
          },
          "metadata": {},
          "execution_count": 57
        }
      ]
    },
    {
      "cell_type": "code",
      "source": [
        "tensor_indexed[:1,...] # all the columns"
      ],
      "metadata": {
        "colab": {
          "base_uri": "https://localhost:8080/"
        },
        "id": "DxxIypYIOb1h",
        "outputId": "5fa2a668-b185-46b3-84e5-5053eaf375f1"
      },
      "execution_count": null,
      "outputs": [
        {
          "output_type": "execute_result",
          "data": {
            "text/plain": [
              "<tf.Tensor: shape=(1, 5), dtype=int32, numpy=array([[2, 3, 4, 5, 6]], dtype=int32)>"
            ]
          },
          "metadata": {},
          "execution_count": 58
        }
      ]
    },
    {
      "cell_type": "code",
      "source": [
        "tensor_indexed[0,...] # all the columns"
      ],
      "metadata": {
        "colab": {
          "base_uri": "https://localhost:8080/"
        },
        "id": "9tKiE7Y2Osdv",
        "outputId": "e4b2a951-91d9-4ecf-90b7-4a3df574bcfa"
      },
      "execution_count": null,
      "outputs": [
        {
          "output_type": "execute_result",
          "data": {
            "text/plain": [
              "<tf.Tensor: shape=(5,), dtype=int32, numpy=array([2, 3, 4, 5, 6], dtype=int32)>"
            ]
          },
          "metadata": {},
          "execution_count": 59
        }
      ]
    },
    {
      "cell_type": "code",
      "source": [
        "tensor_indexed[0:2,2:4]"
      ],
      "metadata": {
        "colab": {
          "base_uri": "https://localhost:8080/"
        },
        "id": "CYsf05HqOumn",
        "outputId": "6c2ee13f-09cb-4ffb-f95e-891ff93e6a02"
      },
      "execution_count": null,
      "outputs": [
        {
          "output_type": "execute_result",
          "data": {
            "text/plain": [
              "<tf.Tensor: shape=(2, 2), dtype=int32, numpy=\n",
              "array([[4, 5],\n",
              "       [4, 2]], dtype=int32)>"
            ]
          },
          "metadata": {},
          "execution_count": 62
        }
      ]
    },
    {
      "cell_type": "code",
      "source": [
        "tensor_indexed = tf.constant([[[1,2,0],[3,5,-1]],\n",
        "[[10,2,0],[1,0,2]],\n",
        "[[5,8,0],[2,7,0]],\n",
        "[[2,1,9],[4,-3,32]]])\n",
        "tensor_indexed"
      ],
      "metadata": {
        "colab": {
          "base_uri": "https://localhost:8080/"
        },
        "id": "LIflfwezPQVo",
        "outputId": "eeb756b5-a045-4297-d163-19aff13d1494"
      },
      "execution_count": null,
      "outputs": [
        {
          "output_type": "execute_result",
          "data": {
            "text/plain": [
              "<tf.Tensor: shape=(4, 2, 3), dtype=int32, numpy=\n",
              "array([[[ 1,  2,  0],\n",
              "        [ 3,  5, -1]],\n",
              "\n",
              "       [[10,  2,  0],\n",
              "        [ 1,  0,  2]],\n",
              "\n",
              "       [[ 5,  8,  0],\n",
              "        [ 2,  7,  0]],\n",
              "\n",
              "       [[ 2,  1,  9],\n",
              "        [ 4, -3, 32]]], dtype=int32)>"
            ]
          },
          "metadata": {},
          "execution_count": 63
        }
      ]
    },
    {
      "cell_type": "code",
      "source": [
        "tensor_indexed[3,0,2]"
      ],
      "metadata": {
        "colab": {
          "base_uri": "https://localhost:8080/"
        },
        "id": "CSz3poRjQHX6",
        "outputId": "3e093075-9c6e-48f0-d01f-5b4fb6d75847"
      },
      "execution_count": null,
      "outputs": [
        {
          "output_type": "execute_result",
          "data": {
            "text/plain": [
              "<tf.Tensor: shape=(), dtype=int32, numpy=9>"
            ]
          },
          "metadata": {},
          "execution_count": 66
        }
      ]
    },
    {
      "cell_type": "code",
      "source": [
        "tensor_indexed[3,0,:]"
      ],
      "metadata": {
        "colab": {
          "base_uri": "https://localhost:8080/"
        },
        "id": "uC2N0Z3XQX0J",
        "outputId": "34ae785c-acdf-479d-85df-70969767dbe9"
      },
      "execution_count": null,
      "outputs": [
        {
          "output_type": "execute_result",
          "data": {
            "text/plain": [
              "<tf.Tensor: shape=(3,), dtype=int32, numpy=array([2, 1, 9], dtype=int32)>"
            ]
          },
          "metadata": {},
          "execution_count": 67
        }
      ]
    },
    {
      "cell_type": "code",
      "source": [
        "tensor_indexed[3,:,0:2]"
      ],
      "metadata": {
        "colab": {
          "base_uri": "https://localhost:8080/"
        },
        "id": "wXpxz0sPRGmd",
        "outputId": "d135b1d1-3f4d-48c3-b478-cca1412dc174"
      },
      "execution_count": null,
      "outputs": [
        {
          "output_type": "execute_result",
          "data": {
            "text/plain": [
              "<tf.Tensor: shape=(2, 2), dtype=int32, numpy=\n",
              "array([[ 2,  1],\n",
              "       [ 4, -3]], dtype=int32)>"
            ]
          },
          "metadata": {},
          "execution_count": 69
        }
      ]
    },
    {
      "cell_type": "code",
      "source": [
        "tensor_indexed[...,:,2]"
      ],
      "metadata": {
        "colab": {
          "base_uri": "https://localhost:8080/"
        },
        "id": "lHCCqZInRcbs",
        "outputId": "c8d5e2eb-b9d5-4db8-8961-25e45738d028"
      },
      "execution_count": null,
      "outputs": [
        {
          "output_type": "execute_result",
          "data": {
            "text/plain": [
              "<tf.Tensor: shape=(4, 2), dtype=int32, numpy=\n",
              "array([[ 0, -1],\n",
              "       [ 0,  2],\n",
              "       [ 0,  0],\n",
              "       [ 9, 32]], dtype=int32)>"
            ]
          },
          "metadata": {},
          "execution_count": 70
        }
      ]
    },
    {
      "cell_type": "markdown",
      "source": [
        "## Math"
      ],
      "metadata": {
        "id": "mtEwcKccSAPD"
      }
    },
    {
      "cell_type": "code",
      "source": [
        "x = tf.constant(-0.2)\n",
        "tf.abs(x)"
      ],
      "metadata": {
        "colab": {
          "base_uri": "https://localhost:8080/"
        },
        "id": "Dsdmp1zWR3Qg",
        "outputId": "3735d881-1fae-4b55-8c9d-37382311d366"
      },
      "execution_count": null,
      "outputs": [
        {
          "output_type": "execute_result",
          "data": {
            "text/plain": [
              "<tf.Tensor: shape=(), dtype=float32, numpy=0.2>"
            ]
          },
          "metadata": {},
          "execution_count": 72
        }
      ]
    },
    {
      "cell_type": "code",
      "source": [
        "tf.sqrt(2.**2+3.**2)"
      ],
      "metadata": {
        "colab": {
          "base_uri": "https://localhost:8080/"
        },
        "id": "xTSijQNeSWAz",
        "outputId": "cd114f14-cd93-48cb-9a76-491aa00da6ed"
      },
      "execution_count": null,
      "outputs": [
        {
          "output_type": "execute_result",
          "data": {
            "text/plain": [
              "<tf.Tensor: shape=(), dtype=float32, numpy=3.6055512>"
            ]
          },
          "metadata": {},
          "execution_count": 73
        }
      ]
    },
    {
      "cell_type": "code",
      "source": [
        "x = tf.constant([2,3,5,7])\n",
        "y = tf.constant([7,7,2,1])\n",
        "\n",
        "tf.add(x,y)"
      ],
      "metadata": {
        "colab": {
          "base_uri": "https://localhost:8080/"
        },
        "id": "W2fQ-noaTE7W",
        "outputId": "f9d09cb5-af63-4e3b-a10a-587d8052567e"
      },
      "execution_count": null,
      "outputs": [
        {
          "output_type": "execute_result",
          "data": {
            "text/plain": [
              "<tf.Tensor: shape=(4,), dtype=int32, numpy=array([ 9, 10,  7,  8], dtype=int32)>"
            ]
          },
          "metadata": {},
          "execution_count": 74
        }
      ]
    },
    {
      "cell_type": "code",
      "source": [
        "x = tf.constant([2,3,5,7])\n",
        "y = tf.constant(1)\n",
        "\n",
        "tf.add(x,y)"
      ],
      "metadata": {
        "colab": {
          "base_uri": "https://localhost:8080/"
        },
        "id": "Pv-_1_goTYPS",
        "outputId": "1d4c8548-7323-4598-fc66-a041575d618c"
      },
      "execution_count": null,
      "outputs": [
        {
          "output_type": "execute_result",
          "data": {
            "text/plain": [
              "<tf.Tensor: shape=(4,), dtype=int32, numpy=array([3, 4, 6, 8], dtype=int32)>"
            ]
          },
          "metadata": {},
          "execution_count": 75
        }
      ]
    },
    {
      "cell_type": "code",
      "source": [
        "x = tf.constant([2,3,5,7])\n",
        "y = tf.constant(0)\n",
        "tf.divide(x,y)"
      ],
      "metadata": {
        "colab": {
          "base_uri": "https://localhost:8080/"
        },
        "id": "n8BbVx9bTsji",
        "outputId": "e51dd8a2-9323-4843-ce51-9646a270a178"
      },
      "execution_count": null,
      "outputs": [
        {
          "output_type": "execute_result",
          "data": {
            "text/plain": [
              "<tf.Tensor: shape=(4,), dtype=float64, numpy=array([inf, inf, inf, inf])>"
            ]
          },
          "metadata": {},
          "execution_count": 77
        }
      ]
    },
    {
      "cell_type": "code",
      "source": [
        "x = tf.constant([2,3,5,7])\n",
        "y = tf.constant(0)\n",
        "tf.math.divide_no_nan(x,y) # inf set to zeros"
      ],
      "metadata": {
        "colab": {
          "base_uri": "https://localhost:8080/"
        },
        "id": "uIJz15N7UD4D",
        "outputId": "f7f2df58-7d9a-4fcf-d1a0-78b07f1da2c4"
      },
      "execution_count": null,
      "outputs": [
        {
          "output_type": "execute_result",
          "data": {
            "text/plain": [
              "<tf.Tensor: shape=(4,), dtype=float64, numpy=array([0., 0., 0., 0.])>"
            ]
          },
          "metadata": {},
          "execution_count": 79
        }
      ]
    },
    {
      "cell_type": "code",
      "source": [
        "x = tf.constant([2,3 ,4, 5])\n",
        "y = tf.constant([[1],[3]])\n",
        "print(tf.math.multiply(x,y))"
      ],
      "metadata": {
        "colab": {
          "base_uri": "https://localhost:8080/"
        },
        "id": "GoqVk-_XUMk8",
        "outputId": "765bf2c4-17d9-4c5a-a68c-e5700d602a7c"
      },
      "execution_count": null,
      "outputs": [
        {
          "output_type": "stream",
          "name": "stdout",
          "text": [
            "tf.Tensor(\n",
            "[[ 2  3  4  5]\n",
            " [ 6  9 12 15]], shape=(2, 4), dtype=int32)\n"
          ]
        }
      ]
    },
    {
      "cell_type": "code",
      "source": [
        "a = tf.constant([2,20,30,3,6])\n",
        "tf.math.argmax(a) # index of max value"
      ],
      "metadata": {
        "colab": {
          "base_uri": "https://localhost:8080/"
        },
        "id": "2jhmtAMaVYS6",
        "outputId": "e346e123-f568-4e88-82e8-055f55b812a1"
      },
      "execution_count": null,
      "outputs": [
        {
          "output_type": "execute_result",
          "data": {
            "text/plain": [
              "<tf.Tensor: shape=(), dtype=int64, numpy=2>"
            ]
          },
          "metadata": {},
          "execution_count": 82
        }
      ]
    },
    {
      "cell_type": "markdown",
      "source": [
        "## Linear Algebra"
      ],
      "metadata": {
        "id": "arYIGk_tLvX7"
      }
    },
    {
      "cell_type": "code",
      "source": [
        "import tensorflow as tf\n",
        "\n",
        "a = tf.constant([\n",
        "    [3,1,9,6,5],\n",
        "    [0,1,7,3,2],\n",
        "    [1,5,1,2,0],\n",
        "    [7,3,0,9,0],\n",
        "])\n",
        "\n",
        "\n",
        "b = tf.constant([\n",
        "    [3,1,9,6,5],\n",
        "    [0,1,7,3,2],\n",
        "    [1,5,1,2,0],\n",
        "    [7,3,0,9,0],\n",
        "    [7,3,0,9,0],\n",
        "])\n",
        "\n",
        "a.shape, b.shape\n",
        "print(f\"MatMul: {tf.linalg.matmul(a,b)}\") # matrix multiplication\n",
        "# not the same as a*b because this is element wise multiplication\n",
        "print(f\"@ symbol: {a@b}\")"
      ],
      "metadata": {
        "colab": {
          "base_uri": "https://localhost:8080/"
        },
        "id": "xM4XZA35WVlX",
        "outputId": "632bd504-1947-4821-fe93-3ea91ac7e377"
      },
      "execution_count": null,
      "outputs": [
        {
          "output_type": "stream",
          "name": "stdout",
          "text": [
            "MatMul: [[ 95  82  43 138  17]\n",
            " [ 42  51  14  62   2]\n",
            " [ 18  17  45  41  15]\n",
            " [ 84  37  84 132  41]]\n",
            "@ symbol: [[ 95  82  43 138  17]\n",
            " [ 42  51  14  62   2]\n",
            " [ 18  17  45  41  15]\n",
            " [ 84  37  84 132  41]]\n"
          ]
        }
      ]
    },
    {
      "cell_type": "code",
      "source": [
        "a = tf.constant([\n",
        "    [1,5,1],\n",
        "    [7,3,0],\n",
        "])\n",
        "\n",
        "tf.transpose(a)"
      ],
      "metadata": {
        "colab": {
          "base_uri": "https://localhost:8080/"
        },
        "id": "rXA1Z39eMZ97",
        "outputId": "3754b45f-92d6-4c52-8686-716cb4c48de8"
      },
      "execution_count": null,
      "outputs": [
        {
          "output_type": "execute_result",
          "data": {
            "text/plain": [
              "<tf.Tensor: shape=(3, 2), dtype=int32, numpy=\n",
              "array([[1, 7],\n",
              "       [5, 3],\n",
              "       [1, 0]], dtype=int32)>"
            ]
          },
          "metadata": {},
          "execution_count": 13
        }
      ]
    },
    {
      "cell_type": "code",
      "source": [
        "a = tf.constant([\n",
        "    [3,1,9,6,5],\n",
        "    [0,1,7,3,2],\n",
        "    [1,5,1,2,0],\n",
        "    [7,3,0,9,0],\n",
        "])\n",
        "\n",
        "\n",
        "b = tf.constant([\n",
        "    [3,1,9,6,5],\n",
        "    [0,1,7,3,2],\n",
        "    [1,5,1,2,0],\n",
        "    [7,3,0,9,0],\n",
        "])\n",
        "\n",
        "a.shape, b.shape\n",
        "print(f\"MatMul: {tf.linalg.matmul(a,b, transpose_b=True)}\")"
      ],
      "metadata": {
        "colab": {
          "base_uri": "https://localhost:8080/"
        },
        "id": "By7DX1MLPuwV",
        "outputId": "f274b6e4-0099-49c0-994f-cf5fdaedfe5a"
      },
      "execution_count": null,
      "outputs": [
        {
          "output_type": "stream",
          "name": "stdout",
          "text": [
            "MatMul: [[152  92  29  78]\n",
            " [ 92  63  18  30]\n",
            " [ 29  18  31  40]\n",
            " [ 78  30  40 139]]\n"
          ]
        }
      ]
    },
    {
      "cell_type": "code",
      "source": [
        "a = tf.constant([[[1,2],[3,5]],\n",
        "[[10,2],[1,0]],\n",
        "[[5,8],[2,7]],\n",
        "[[2,1],[4,-3]]])\n",
        "\n",
        "b = tf.constant([[[1,2,0],[3,5,-1]],\n",
        "[[10,2,0],[1,0,2]],\n",
        "[[5,8,0],[2,7,0]],\n",
        "[[2,1,9],[4,-3,32]]])\n",
        "\n",
        "a.shape, b.shape"
      ],
      "metadata": {
        "colab": {
          "base_uri": "https://localhost:8080/"
        },
        "id": "0YGOe5fyRxFC",
        "outputId": "a9d31d07-8f60-4c90-c4cb-7c952f43fb1a"
      },
      "execution_count": null,
      "outputs": [
        {
          "output_type": "execute_result",
          "data": {
            "text/plain": [
              "(TensorShape([4, 2, 2]), TensorShape([4, 2, 3]))"
            ]
          },
          "metadata": {},
          "execution_count": 19
        }
      ]
    },
    {
      "cell_type": "code",
      "source": [
        "tf.linalg.matmul(a,b)"
      ],
      "metadata": {
        "colab": {
          "base_uri": "https://localhost:8080/"
        },
        "id": "b8Xq3JCiR-WC",
        "outputId": "faecf0d7-0858-4ae2-9101-b116c93642e4"
      },
      "execution_count": null,
      "outputs": [
        {
          "output_type": "execute_result",
          "data": {
            "text/plain": [
              "<tf.Tensor: shape=(4, 2, 3), dtype=int32, numpy=\n",
              "array([[[  7,  12,  -2],\n",
              "        [ 18,  31,  -5]],\n",
              "\n",
              "       [[102,  20,   4],\n",
              "        [ 10,   2,   0]],\n",
              "\n",
              "       [[ 41,  96,   0],\n",
              "        [ 24,  65,   0]],\n",
              "\n",
              "       [[  8,  -1,  50],\n",
              "        [ -4,  13, -60]]], dtype=int32)>"
            ]
          },
          "metadata": {},
          "execution_count": 20
        }
      ]
    },
    {
      "cell_type": "code",
      "source": [
        "a = tf.constant([\n",
        "                  [1,5,1],\n",
        "                  [7,9,3],\n",
        "                  [1,3,1],\n",
        "])"
      ],
      "metadata": {
        "id": "EI2Etw74SHLX"
      },
      "execution_count": null,
      "outputs": []
    },
    {
      "cell_type": "code",
      "source": [
        "tf.linalg.band_part(a,0,0)"
      ],
      "metadata": {
        "colab": {
          "base_uri": "https://localhost:8080/"
        },
        "id": "F-nKkXO2Tz0v",
        "outputId": "2e286773-2a85-4132-cd1d-6872c14aa183"
      },
      "execution_count": null,
      "outputs": [
        {
          "output_type": "execute_result",
          "data": {
            "text/plain": [
              "<tf.Tensor: shape=(3, 3), dtype=int32, numpy=\n",
              "array([[1, 0, 0],\n",
              "       [0, 9, 0],\n",
              "       [0, 0, 1]], dtype=int32)>"
            ]
          },
          "metadata": {},
          "execution_count": 22
        }
      ]
    },
    {
      "cell_type": "markdown",
      "source": [
        "Sqaure Matrix = Number of rows should equal the number of columns\n"
      ],
      "metadata": {
        "id": "OLfre34uV1UD"
      }
    },
    {
      "cell_type": "code",
      "source": [
        "a = tf.constant([\n",
        "    [3,1,9,6,5],\n",
        "    [0,1,7,3,2],\n",
        "    [1,5,1,2,0],\n",
        "    [7,3,0,9,0],\n",
        "])\n",
        "\n",
        "\n",
        "b = tf.constant([\n",
        "    [3,1,9,6,5],\n",
        "    [0,1,7,3,2],\n",
        "    [1,5,1,2,0],\n",
        "    [7,3,0,9,0],\n",
        "    [7,3,0,9,0],\n",
        "])\n",
        "\n",
        "a.shape, b.shape\n",
        "print(f\"MatMul: {tf.linalg.matmul(a,b)}\")\n",
        "print(f\"Einsum: {tf.einsum('ij,jk->ik',a,b)}\")"
      ],
      "metadata": {
        "colab": {
          "base_uri": "https://localhost:8080/"
        },
        "id": "scnhCimIV6ma",
        "outputId": "78fdde10-fb37-4c06-d355-dac73c699b83"
      },
      "execution_count": null,
      "outputs": [
        {
          "output_type": "stream",
          "name": "stdout",
          "text": [
            "MatMul: [[ 95  82  43 138  17]\n",
            " [ 42  51  14  62   2]\n",
            " [ 18  17  45  41  15]\n",
            " [ 84  37  84 132  41]]\n",
            "Einsum: [[ 95  82  43 138  17]\n",
            " [ 42  51  14  62   2]\n",
            " [ 18  17  45  41  15]\n",
            " [ 84  37  84 132  41]]\n"
          ]
        }
      ]
    },
    {
      "cell_type": "code",
      "source": [
        "a = tf.constant([2,6,5,2])\n",
        "b = tf.constant([0,1,3,2])\n",
        "\n",
        "# 0+6+15+4 = 25\n",
        "tf.einsum(\"i,i->\",a,b)"
      ],
      "metadata": {
        "colab": {
          "base_uri": "https://localhost:8080/"
        },
        "id": "ZBp-OjyUaGxX",
        "outputId": "795156d3-cc51-4834-9a5e-e9a7a1950b71"
      },
      "execution_count": null,
      "outputs": [
        {
          "output_type": "execute_result",
          "data": {
            "text/plain": [
              "<tf.Tensor: shape=(), dtype=int32, numpy=25>"
            ]
          },
          "metadata": {},
          "execution_count": 27
        }
      ]
    },
    {
      "cell_type": "code",
      "source": [
        "b = tf.constant([\n",
        "    [3,1,9,6,5],\n",
        "    [0,1,7,3,2],\n",
        "    [1,5,1,2,0],\n",
        "    [7,3,0,9,0],\n",
        "])\n",
        "\n",
        "tf.einsum(\"ij->ji\",b) #transposed"
      ],
      "metadata": {
        "colab": {
          "base_uri": "https://localhost:8080/"
        },
        "id": "q4fXjZ1caoFB",
        "outputId": "67c24122-86c3-43c0-d057-633152ffe6a2"
      },
      "execution_count": null,
      "outputs": [
        {
          "output_type": "execute_result",
          "data": {
            "text/plain": [
              "<tf.Tensor: shape=(5, 4), dtype=int32, numpy=\n",
              "array([[3, 0, 1, 7],\n",
              "       [1, 1, 5, 3],\n",
              "       [9, 7, 1, 0],\n",
              "       [6, 3, 2, 9],\n",
              "       [5, 2, 0, 0]], dtype=int32)>"
            ]
          },
          "metadata": {},
          "execution_count": 29
        }
      ]
    },
    {
      "cell_type": "code",
      "source": [
        "a = tf.constant([\n",
        "    [3,1,9,6],\n",
        "    [0,1,7,3],\n",
        "    [1,5,1,2],\n",
        "])\n",
        "b = tf.constant([\n",
        "    [3,1,9,6],\n",
        "    [0,1,7,3],\n",
        "    [1,5,1,2],\n",
        "])"
      ],
      "metadata": {
        "id": "xTb6hcEidOmh"
      },
      "execution_count": null,
      "outputs": []
    },
    {
      "cell_type": "code",
      "source": [
        "a*b"
      ],
      "metadata": {
        "colab": {
          "base_uri": "https://localhost:8080/"
        },
        "id": "iBXXEIJwd6VX",
        "outputId": "4e40f228-f00b-47ff-a4e8-0b0239e72b9b"
      },
      "execution_count": null,
      "outputs": [
        {
          "output_type": "execute_result",
          "data": {
            "text/plain": [
              "<tf.Tensor: shape=(3, 4), dtype=int32, numpy=\n",
              "array([[ 9,  1, 81, 36],\n",
              "       [ 0,  1, 49,  9],\n",
              "       [ 1, 25,  1,  4]], dtype=int32)>"
            ]
          },
          "metadata": {},
          "execution_count": 31
        }
      ]
    },
    {
      "cell_type": "code",
      "source": [
        "tf.einsum(\"ij,ij->ij\",a,b)"
      ],
      "metadata": {
        "colab": {
          "base_uri": "https://localhost:8080/"
        },
        "id": "-Cyfv2cvd7C7",
        "outputId": "21a91c94-6606-42f8-eeb4-92c61ebbba69"
      },
      "execution_count": null,
      "outputs": [
        {
          "output_type": "execute_result",
          "data": {
            "text/plain": [
              "<tf.Tensor: shape=(3, 4), dtype=int32, numpy=\n",
              "array([[ 9,  1, 81, 36],\n",
              "       [ 0,  1, 49,  9],\n",
              "       [ 1, 25,  1,  4]], dtype=int32)>"
            ]
          },
          "metadata": {},
          "execution_count": 32
        }
      ]
    },
    {
      "cell_type": "markdown",
      "source": [
        "## Common Methods"
      ],
      "metadata": {
        "id": "5QUhKm0mgn-z"
      }
    },
    {
      "cell_type": "code",
      "source": [
        "# Expand Dims\n",
        "a = tf.constant([1,3,4,5,6,7])\n",
        "print(f'Shape: {a.shape}')\n",
        "\n",
        "tf.expand_dims(a, axis=0) # now we can pass it in to a method that needs a 2D input"
      ],
      "metadata": {
        "colab": {
          "base_uri": "https://localhost:8080/"
        },
        "id": "ByOyXNeoeBtB",
        "outputId": "3a54c734-07bc-4521-f85d-9a209f8f4ec0"
      },
      "execution_count": null,
      "outputs": [
        {
          "output_type": "stream",
          "name": "stdout",
          "text": [
            "Shape: (6,)\n"
          ]
        },
        {
          "output_type": "execute_result",
          "data": {
            "text/plain": [
              "<tf.Tensor: shape=(1, 6), dtype=int32, numpy=array([[1, 3, 4, 5, 6, 7]], dtype=int32)>"
            ]
          },
          "metadata": {},
          "execution_count": 34
        }
      ]
    },
    {
      "cell_type": "code",
      "source": [
        "tf.expand_dims(a, axis=1)"
      ],
      "metadata": {
        "colab": {
          "base_uri": "https://localhost:8080/"
        },
        "id": "7sovP2iMhQLs",
        "outputId": "af19112b-51ba-43a0-d96a-e57b539faa15"
      },
      "execution_count": null,
      "outputs": [
        {
          "output_type": "execute_result",
          "data": {
            "text/plain": [
              "<tf.Tensor: shape=(6, 1), dtype=int32, numpy=\n",
              "array([[1],\n",
              "       [3],\n",
              "       [4],\n",
              "       [5],\n",
              "       [6],\n",
              "       [7]], dtype=int32)>"
            ]
          },
          "metadata": {},
          "execution_count": 35
        }
      ]
    },
    {
      "cell_type": "code",
      "source": [
        "# Squeeze\n",
        "a = tf.constant([[1,3,4,5,6,7]])\n",
        "print(f'Shape: {a.shape}')\n",
        "\n",
        "tf.squeeze(a, axis=0) # takes away a dimension"
      ],
      "metadata": {
        "colab": {
          "base_uri": "https://localhost:8080/"
        },
        "id": "_IDkGj4Jhhaw",
        "outputId": "02121081-1eb5-4d6f-fe22-9c5d9003c2fd"
      },
      "execution_count": null,
      "outputs": [
        {
          "output_type": "stream",
          "name": "stdout",
          "text": [
            "Shape: (1, 6)\n"
          ]
        },
        {
          "output_type": "execute_result",
          "data": {
            "text/plain": [
              "<tf.Tensor: shape=(6,), dtype=int32, numpy=array([1, 3, 4, 5, 6, 7], dtype=int32)>"
            ]
          },
          "metadata": {},
          "execution_count": 37
        }
      ]
    },
    {
      "cell_type": "code",
      "source": [
        "# Reshape\n",
        "a = tf.constant([1,2,3,4,5,6,7,8,9])\n",
        "print(f'Shape: {a.shape}')\n",
        "\n",
        "tf.reshape(a, [3,3])"
      ],
      "metadata": {
        "colab": {
          "base_uri": "https://localhost:8080/"
        },
        "id": "H0UuV_0YiewL",
        "outputId": "4ba64be9-02ee-4407-bc30-8342dcf4f25a"
      },
      "execution_count": null,
      "outputs": [
        {
          "output_type": "stream",
          "name": "stdout",
          "text": [
            "Shape: (9,)\n"
          ]
        },
        {
          "output_type": "execute_result",
          "data": {
            "text/plain": [
              "<tf.Tensor: shape=(3, 3), dtype=int32, numpy=\n",
              "array([[1, 2, 3],\n",
              "       [4, 5, 6],\n",
              "       [7, 8, 9]], dtype=int32)>"
            ]
          },
          "metadata": {},
          "execution_count": 40
        }
      ]
    },
    {
      "cell_type": "code",
      "source": [
        "\n",
        "tf.reshape(a, [3,-1])"
      ],
      "metadata": {
        "colab": {
          "base_uri": "https://localhost:8080/"
        },
        "id": "1HqXu-dMktUV",
        "outputId": "89743782-1ec4-456c-9df3-2caf8560828c"
      },
      "execution_count": null,
      "outputs": [
        {
          "output_type": "execute_result",
          "data": {
            "text/plain": [
              "<tf.Tensor: shape=(3, 3), dtype=int32, numpy=\n",
              "array([[1, 2, 3],\n",
              "       [4, 5, 6],\n",
              "       [7, 8, 9]], dtype=int32)>"
            ]
          },
          "metadata": {},
          "execution_count": 41
        }
      ]
    },
    {
      "cell_type": "code",
      "source": [
        "# Concat\n",
        "t1 = tf.constant([\n",
        "    [1, 2, 3],\n",
        "    [4, 5, 6]\n",
        "])\n",
        "\n",
        "t2 = tf.constant([\n",
        "    [7, 8, 9],\n",
        "    [10, 11, 12]\n",
        "])\n",
        "\n",
        "print(\"Shapes...\", t1.shape, t2.shape, \"\\n\")\n",
        "tf.concat([t1, t2], axis=0)"
      ],
      "metadata": {
        "colab": {
          "base_uri": "https://localhost:8080/"
        },
        "id": "j5Ay5zJAlR3G",
        "outputId": "c6e6ea50-401e-4d7d-d73e-46853a38ff7d"
      },
      "execution_count": null,
      "outputs": [
        {
          "output_type": "stream",
          "name": "stdout",
          "text": [
            "Shapes... (2, 3) (2, 3) \n",
            "\n"
          ]
        },
        {
          "output_type": "execute_result",
          "data": {
            "text/plain": [
              "<tf.Tensor: shape=(4, 3), dtype=int32, numpy=\n",
              "array([[ 1,  2,  3],\n",
              "       [ 4,  5,  6],\n",
              "       [ 7,  8,  9],\n",
              "       [10, 11, 12]], dtype=int32)>"
            ]
          },
          "metadata": {},
          "execution_count": 44
        }
      ]
    },
    {
      "cell_type": "code",
      "source": [
        "# Stack\n",
        "tf.stack([t1, t2], axis=0)"
      ],
      "metadata": {
        "colab": {
          "base_uri": "https://localhost:8080/"
        },
        "id": "BlgHsZ5ZmOEM",
        "outputId": "1873e392-88d1-4d88-83f9-5442a60af762"
      },
      "execution_count": null,
      "outputs": [
        {
          "output_type": "execute_result",
          "data": {
            "text/plain": [
              "<tf.Tensor: shape=(2, 2, 3), dtype=int32, numpy=\n",
              "array([[[ 1,  2,  3],\n",
              "        [ 4,  5,  6]],\n",
              "\n",
              "       [[ 7,  8,  9],\n",
              "        [10, 11, 12]]], dtype=int32)>"
            ]
          },
          "metadata": {},
          "execution_count": 45
        }
      ]
    },
    {
      "cell_type": "code",
      "source": [
        "# Pad\n",
        "t = tf.constant([[1, 2, 3],\n",
        "                 [4, 5, 6]])\n",
        "\n",
        "paddings = tf.constant([[5, 1], # how many values to add to the top and bottom\n",
        "                        [2, 4]]) # how many values to add to the left and right\n",
        "\n",
        "tf.pad(t, paddings, \"CONSTANT\")"
      ],
      "metadata": {
        "colab": {
          "base_uri": "https://localhost:8080/"
        },
        "id": "6CVrAALvnf6W",
        "outputId": "6c20f524-ddd9-4a03-fd7b-28053e509e18"
      },
      "execution_count": null,
      "outputs": [
        {
          "output_type": "execute_result",
          "data": {
            "text/plain": [
              "<tf.Tensor: shape=(8, 9), dtype=int32, numpy=\n",
              "array([[0, 0, 0, 0, 0, 0, 0, 0, 0],\n",
              "       [0, 0, 0, 0, 0, 0, 0, 0, 0],\n",
              "       [0, 0, 0, 0, 0, 0, 0, 0, 0],\n",
              "       [0, 0, 0, 0, 0, 0, 0, 0, 0],\n",
              "       [0, 0, 0, 0, 0, 0, 0, 0, 0],\n",
              "       [0, 0, 1, 2, 3, 0, 0, 0, 0],\n",
              "       [0, 0, 4, 5, 6, 0, 0, 0, 0],\n",
              "       [0, 0, 0, 0, 0, 0, 0, 0, 0]], dtype=int32)>"
            ]
          },
          "metadata": {},
          "execution_count": 49
        }
      ]
    },
    {
      "cell_type": "code",
      "source": [
        "tf.pad(t, paddings, \"CONSTANT\", constant_values=9)"
      ],
      "metadata": {
        "colab": {
          "base_uri": "https://localhost:8080/"
        },
        "id": "S-3_pJLtpHxf",
        "outputId": "00e14672-f6f3-4c5c-89f8-5d4727b6fd6a"
      },
      "execution_count": null,
      "outputs": [
        {
          "output_type": "execute_result",
          "data": {
            "text/plain": [
              "<tf.Tensor: shape=(8, 9), dtype=int32, numpy=\n",
              "array([[9, 9, 9, 9, 9, 9, 9, 9, 9],\n",
              "       [9, 9, 9, 9, 9, 9, 9, 9, 9],\n",
              "       [9, 9, 9, 9, 9, 9, 9, 9, 9],\n",
              "       [9, 9, 9, 9, 9, 9, 9, 9, 9],\n",
              "       [9, 9, 9, 9, 9, 9, 9, 9, 9],\n",
              "       [9, 9, 1, 2, 3, 9, 9, 9, 9],\n",
              "       [9, 9, 4, 5, 6, 9, 9, 9, 9],\n",
              "       [9, 9, 9, 9, 9, 9, 9, 9, 9]], dtype=int32)>"
            ]
          },
          "metadata": {},
          "execution_count": 50
        }
      ]
    },
    {
      "cell_type": "code",
      "source": [
        "# Gather\n",
        "a = tf.constant([4,5,6,7])\n",
        "print(a[1:3])\n",
        "\n",
        "tf.gather(a, [0,3,1], axis=0)"
      ],
      "metadata": {
        "colab": {
          "base_uri": "https://localhost:8080/"
        },
        "id": "3fCDZZS6pgye",
        "outputId": "d74ba598-6238-47f6-a8a4-d723a0d37936"
      },
      "execution_count": null,
      "outputs": [
        {
          "output_type": "stream",
          "name": "stdout",
          "text": [
            "tf.Tensor([5 6], shape=(2,), dtype=int32)\n"
          ]
        },
        {
          "output_type": "execute_result",
          "data": {
            "text/plain": [
              "<tf.Tensor: shape=(3,), dtype=int32, numpy=array([4, 7, 5], dtype=int32)>"
            ]
          },
          "metadata": {},
          "execution_count": 53
        }
      ]
    },
    {
      "cell_type": "code",
      "source": [
        "b = tf.constant([\n",
        "    [2, 9, 0, 3, 0],\n",
        "    [3, 6, 8, -2, 2],\n",
        "    [1, 3, 5, 0, 1],\n",
        "    [3, 0, 2, 0, 5]\n",
        "])\n",
        "\n",
        "tf.gather(b, [3, 0], axis=0)"
      ],
      "metadata": {
        "colab": {
          "base_uri": "https://localhost:8080/"
        },
        "id": "5rb-9UlSsR6H",
        "outputId": "b0d34fac-df95-4907-baed-03fcf52003f4"
      },
      "execution_count": null,
      "outputs": [
        {
          "output_type": "execute_result",
          "data": {
            "text/plain": [
              "<tf.Tensor: shape=(2, 5), dtype=int32, numpy=\n",
              "array([[3, 0, 2, 0, 5],\n",
              "       [2, 9, 0, 3, 0]], dtype=int32)>"
            ]
          },
          "metadata": {},
          "execution_count": 54
        }
      ]
    },
    {
      "cell_type": "code",
      "source": [
        "tf.gather(b, [1, 3], axis=1)"
      ],
      "metadata": {
        "colab": {
          "base_uri": "https://localhost:8080/"
        },
        "id": "gukPa_IMs7Sv",
        "outputId": "b22db4fb-c50b-4608-c085-0c8f39e65bbc"
      },
      "execution_count": null,
      "outputs": [
        {
          "output_type": "execute_result",
          "data": {
            "text/plain": [
              "<tf.Tensor: shape=(4, 2), dtype=int32, numpy=\n",
              "array([[ 9,  3],\n",
              "       [ 6, -2],\n",
              "       [ 3,  0],\n",
              "       [ 0,  0]], dtype=int32)>"
            ]
          },
          "metadata": {},
          "execution_count": 55
        }
      ]
    },
    {
      "cell_type": "code",
      "source": [
        "tf.gather_nd(b, [\n",
        "    [1,3],\n",
        "    [2,0]\n",
        "])"
      ],
      "metadata": {
        "colab": {
          "base_uri": "https://localhost:8080/"
        },
        "id": "XZbj1Pk9tkqG",
        "outputId": "d44002a8-e226-4ca2-de67-1912959bd548"
      },
      "execution_count": null,
      "outputs": [
        {
          "output_type": "execute_result",
          "data": {
            "text/plain": [
              "<tf.Tensor: shape=(2,), dtype=int32, numpy=array([-2,  1], dtype=int32)>"
            ]
          },
          "metadata": {},
          "execution_count": 56
        }
      ]
    },
    {
      "cell_type": "code",
      "source": [
        "tf.gather_nd(b, [\n",
        "    [1],\n",
        "    [3]\n",
        "])"
      ],
      "metadata": {
        "colab": {
          "base_uri": "https://localhost:8080/"
        },
        "id": "LF68EBR3uFU-",
        "outputId": "565fceb0-c03a-444d-d32e-61f62914efa3"
      },
      "execution_count": null,
      "outputs": [
        {
          "output_type": "execute_result",
          "data": {
            "text/plain": [
              "<tf.Tensor: shape=(2, 5), dtype=int32, numpy=\n",
              "array([[ 3,  6,  8, -2,  2],\n",
              "       [ 3,  0,  2,  0,  5]], dtype=int32)>"
            ]
          },
          "metadata": {},
          "execution_count": 57
        }
      ]
    },
    {
      "cell_type": "markdown",
      "source": [
        "## Ragged Tensors"
      ],
      "metadata": {
        "id": "UBGJwGXBubk2"
      }
    },
    {
      "cell_type": "code",
      "source": [
        "a = tf.ragged.constant([\n",
        "    [1,3],\n",
        "    [4,5,6],\n",
        "    [7]\n",
        "])\n",
        "\n",
        "print(a)"
      ],
      "metadata": {
        "colab": {
          "base_uri": "https://localhost:8080/"
        },
        "id": "Jm-WL5iKuXIY",
        "outputId": "d22e60b5-6636-4e51-a21f-5917fbd184cf"
      },
      "execution_count": null,
      "outputs": [
        {
          "output_type": "stream",
          "name": "stdout",
          "text": [
            "<tf.RaggedTensor [[1, 3], [4, 5, 6], [7]]>\n"
          ]
        }
      ]
    },
    {
      "cell_type": "code",
      "source": [
        "tf.ragged.boolean_mask(  # Mask a 2D RaggedTensor.\n",
        "    tf.ragged.constant([[1, 2, 3], [4], [5, 6]]),\n",
        "    tf.ragged.constant([[False, False, True], [False], [True, True]])).to_list()\n"
      ],
      "metadata": {
        "colab": {
          "base_uri": "https://localhost:8080/"
        },
        "id": "7YIP3DnjuvXV",
        "outputId": "0cbaabe8-ce3e-41f6-d1ef-93f0f7edd7fe"
      },
      "execution_count": null,
      "outputs": [
        {
          "output_type": "execute_result",
          "data": {
            "text/plain": [
              "[[3], [], [5, 6]]"
            ]
          },
          "metadata": {},
          "execution_count": 63
        }
      ]
    },
    {
      "cell_type": "markdown",
      "source": [
        "## Sparse Tensors"
      ],
      "metadata": {
        "id": "MyJaqZcoyksa"
      }
    },
    {
      "cell_type": "code",
      "source": [
        "sparse_tensor = tf.sparse.SparseTensor(\n",
        "    indices=[[0,0],[2,5]],\n",
        "    values=[1,9],\n",
        "    dense_shape=[5,6])\n",
        "sparse_tensor"
      ],
      "metadata": {
        "colab": {
          "base_uri": "https://localhost:8080/"
        },
        "id": "NunRS5TivwTJ",
        "outputId": "895cca11-5235-41da-9c0a-d9a0b119bc37"
      },
      "execution_count": null,
      "outputs": [
        {
          "output_type": "execute_result",
          "data": {
            "text/plain": [
              "SparseTensor(indices=tf.Tensor(\n",
              "[[0 0]\n",
              " [2 5]], shape=(2, 2), dtype=int64), values=tf.Tensor([1 9], shape=(2,), dtype=int32), dense_shape=tf.Tensor([5 6], shape=(2,), dtype=int64))"
            ]
          },
          "metadata": {},
          "execution_count": 67
        }
      ]
    },
    {
      "cell_type": "code",
      "source": [
        "tf.sparse.to_dense(sparse_tensor)"
      ],
      "metadata": {
        "colab": {
          "base_uri": "https://localhost:8080/"
        },
        "id": "iK8xI2xmzW10",
        "outputId": "533cc2ed-5c5b-4f6e-f3ba-b9cf2f0f2889"
      },
      "execution_count": null,
      "outputs": [
        {
          "output_type": "execute_result",
          "data": {
            "text/plain": [
              "<tf.Tensor: shape=(5, 6), dtype=int32, numpy=\n",
              "array([[1, 0, 0, 0, 0, 0],\n",
              "       [0, 0, 0, 0, 0, 0],\n",
              "       [0, 0, 0, 0, 0, 9],\n",
              "       [0, 0, 0, 0, 0, 0],\n",
              "       [0, 0, 0, 0, 0, 0]], dtype=int32)>"
            ]
          },
          "metadata": {},
          "execution_count": 68
        }
      ]
    },
    {
      "cell_type": "markdown",
      "source": [
        "# String Tensors"
      ],
      "metadata": {
        "id": "7SONTdEbz0DE"
      }
    },
    {
      "cell_type": "code",
      "source": [
        "tensor_string = tf.constant(['i am', 'a', 'string'])\n",
        "tensor_string"
      ],
      "metadata": {
        "colab": {
          "base_uri": "https://localhost:8080/"
        },
        "id": "A6mc7QLEzbRM",
        "outputId": "9ab4fb13-9614-4e93-afc9-65e32791175f"
      },
      "execution_count": null,
      "outputs": [
        {
          "output_type": "execute_result",
          "data": {
            "text/plain": [
              "<tf.Tensor: shape=(3,), dtype=string, numpy=array([b'i am', b'a', b'string'], dtype=object)>"
            ]
          },
          "metadata": {},
          "execution_count": 69
        }
      ]
    },
    {
      "cell_type": "code",
      "source": [
        "tf.strings.join(tensor_string, separator=\"+\")"
      ],
      "metadata": {
        "colab": {
          "base_uri": "https://localhost:8080/"
        },
        "id": "KP7erxvO0EyW",
        "outputId": "13ff7464-4df4-469e-cb04-8e7dc50b2270"
      },
      "execution_count": null,
      "outputs": [
        {
          "output_type": "execute_result",
          "data": {
            "text/plain": [
              "<tf.Tensor: shape=(), dtype=string, numpy=b'i am+a+string'>"
            ]
          },
          "metadata": {},
          "execution_count": 71
        }
      ]
    },
    {
      "cell_type": "code",
      "source": [
        "tensor_string_1 = tf.constant(['i am', 'a', 'string'])\n",
        "tensor_string_2 = tf.constant(['i am', 'not a', 'string'])\n",
        "tf.strings.join([tensor_string_1, tensor_string_2], separator=\"+\")"
      ],
      "metadata": {
        "colab": {
          "base_uri": "https://localhost:8080/"
        },
        "id": "S53Usapr0Tsg",
        "outputId": "850002d7-2adb-447b-bda1-d70e1167da49"
      },
      "execution_count": null,
      "outputs": [
        {
          "output_type": "execute_result",
          "data": {
            "text/plain": [
              "<tf.Tensor: shape=(3,), dtype=string, numpy=array([b'i am+i am', b'a+not a', b'string+string'], dtype=object)>"
            ]
          },
          "metadata": {},
          "execution_count": 72
        }
      ]
    },
    {
      "cell_type": "markdown",
      "source": [
        "## Variables"
      ],
      "metadata": {
        "id": "96wBnzZn1BrJ"
      }
    },
    {
      "cell_type": "code",
      "source": [
        "x = tf.constant([1,2,3,4,5])\n",
        "x_var = tf.Variable(x)\n",
        "print(x, x_var,sep=\"\\n\")"
      ],
      "metadata": {
        "colab": {
          "base_uri": "https://localhost:8080/"
        },
        "id": "9gp_ZD9Q0vzt",
        "outputId": "3d613498-13c2-437e-e594-ac9a2a644299"
      },
      "execution_count": null,
      "outputs": [
        {
          "output_type": "stream",
          "name": "stdout",
          "text": [
            "tf.Tensor([1 2 3 4 5], shape=(5,), dtype=int32)\n",
            "<tf.Variable 'Variable:0' shape=(5,) dtype=int32, numpy=array([1, 2, 3, 4, 5], dtype=int32)>\n"
          ]
        }
      ]
    },
    {
      "cell_type": "code",
      "source": [
        "x_var.assign_add([5, 5, 5, 5, 5]) # is doesn't broadcast"
      ],
      "metadata": {
        "colab": {
          "base_uri": "https://localhost:8080/"
        },
        "id": "wIt62SkN1ZoH",
        "outputId": "cdde2226-ab1f-4039-f24c-f11228ed8e18"
      },
      "execution_count": null,
      "outputs": [
        {
          "output_type": "execute_result",
          "data": {
            "text/plain": [
              "<tf.Variable 'UnreadVariable' shape=(5,) dtype=int32, numpy=array([ 6,  7,  8,  9, 10], dtype=int32)>"
            ]
          },
          "metadata": {},
          "execution_count": 79
        }
      ]
    },
    {
      "cell_type": "code",
      "source": [
        "x_var.assign_sub([5, 5, 5, 5, 5])"
      ],
      "metadata": {
        "colab": {
          "base_uri": "https://localhost:8080/"
        },
        "id": "JtW0t9nP1ctQ",
        "outputId": "42159500-4ba9-48db-adca-747732840d6a"
      },
      "execution_count": null,
      "outputs": [
        {
          "output_type": "execute_result",
          "data": {
            "text/plain": [
              "<tf.Variable 'UnreadVariable' shape=(5,) dtype=int32, numpy=array([1, 2, 3, 4, 5], dtype=int32)>"
            ]
          },
          "metadata": {},
          "execution_count": 80
        }
      ]
    },
    {
      "cell_type": "code",
      "source": [
        "x_var.assign([5, 5, 5, 5, 5])"
      ],
      "metadata": {
        "colab": {
          "base_uri": "https://localhost:8080/"
        },
        "id": "OFTJxVUw2kz9",
        "outputId": "3297a869-2daf-4d36-a3b4-e614673bc141"
      },
      "execution_count": null,
      "outputs": [
        {
          "output_type": "execute_result",
          "data": {
            "text/plain": [
              "<tf.Variable 'UnreadVariable' shape=(5,) dtype=int32, numpy=array([5, 5, 5, 5, 5], dtype=int32)>"
            ]
          },
          "metadata": {},
          "execution_count": 81
        }
      ]
    },
    {
      "cell_type": "code",
      "source": [],
      "metadata": {
        "id": "nr9k3fj22rXQ"
      },
      "execution_count": null,
      "outputs": []
    }
  ]
}